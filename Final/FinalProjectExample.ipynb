{
 "cells": [
  {
   "cell_type": "markdown",
   "metadata": {},
   "source": [
    "# Final Project Sample Code"
   ]
  },
  {
   "cell_type": "code",
   "execution_count": 1,
   "metadata": {},
   "outputs": [],
   "source": [
    "#Install Libraries\n",
    "\n",
    "#!pip install numpy\n",
    "#!pip install pandas\n",
    "#!pip install sklearn\n",
    "#!pip install scipy"
   ]
  },
  {
   "cell_type": "code",
   "execution_count": 1,
   "metadata": {},
   "outputs": [],
   "source": [
    "#Import Libraries\n",
    "\n",
    "import csv\n",
    "import random\n",
    "import numpy as np\n",
    "import pandas as pd\n",
    "\n",
    "# Plotting\n",
    "import matplotlib.pyplot as plt\n",
    "\n",
    "# Machine Learning\n",
    "from sklearn.preprocessing import normalize\n",
    "import scipy.cluster.hierarchy as sch\n",
    "\n",
    "\n",
    "%matplotlib inline"
   ]
  },
  {
   "cell_type": "markdown",
   "metadata": {},
   "source": [
    "# What does our Data look like?"
   ]
  },
  {
   "cell_type": "code",
   "execution_count": 2,
   "metadata": {},
   "outputs": [
    {
     "name": "stdout",
     "output_type": "stream",
     "text": [
      "<class 'pandas.core.frame.DataFrame'>\n",
      "RangeIndex: 45774 entries, 0 to 45773\n",
      "Data columns (total 17 columns):\n",
      " #   Column                       Non-Null Count  Dtype  \n",
      "---  ------                       --------------  -----  \n",
      " 0   cord_uid                     45774 non-null  object \n",
      " 1   sha                          31753 non-null  object \n",
      " 2   source_x                     45774 non-null  object \n",
      " 3   title                        45617 non-null  object \n",
      " 4   doi                          42440 non-null  object \n",
      " 5   pmcid                        26243 non-null  object \n",
      " 6   pubmed_id                    34641 non-null  float64\n",
      " 7   license                      45774 non-null  object \n",
      " 8   abstract                     37913 non-null  object \n",
      " 9   publish_time                 45765 non-null  object \n",
      " 10  authors                      43774 non-null  object \n",
      " 11  journal                      41707 non-null  object \n",
      " 12  Microsoft Academic Paper ID  964 non-null    float64\n",
      " 13  WHO #Covidence               1768 non-null   object \n",
      " 14  has_full_text                45774 non-null  bool   \n",
      " 15  full_text_file               35558 non-null  object \n",
      " 16  url                          45472 non-null  object \n",
      "dtypes: bool(1), float64(2), object(14)\n",
      "memory usage: 5.6+ MB\n"
     ]
    },
    {
     "data": {
      "text/html": [
       "<div>\n",
       "<style scoped>\n",
       "    .dataframe tbody tr th:only-of-type {\n",
       "        vertical-align: middle;\n",
       "    }\n",
       "\n",
       "    .dataframe tbody tr th {\n",
       "        vertical-align: top;\n",
       "    }\n",
       "\n",
       "    .dataframe thead th {\n",
       "        text-align: right;\n",
       "    }\n",
       "</style>\n",
       "<table border=\"1\" class=\"dataframe\">\n",
       "  <thead>\n",
       "    <tr style=\"text-align: right;\">\n",
       "      <th></th>\n",
       "      <th>cord_uid</th>\n",
       "      <th>sha</th>\n",
       "      <th>source_x</th>\n",
       "      <th>title</th>\n",
       "      <th>doi</th>\n",
       "      <th>pmcid</th>\n",
       "      <th>pubmed_id</th>\n",
       "      <th>license</th>\n",
       "      <th>abstract</th>\n",
       "      <th>publish_time</th>\n",
       "      <th>authors</th>\n",
       "      <th>journal</th>\n",
       "      <th>Microsoft Academic Paper ID</th>\n",
       "      <th>WHO #Covidence</th>\n",
       "      <th>has_full_text</th>\n",
       "      <th>full_text_file</th>\n",
       "      <th>url</th>\n",
       "    </tr>\n",
       "  </thead>\n",
       "  <tbody>\n",
       "    <tr>\n",
       "      <th>0</th>\n",
       "      <td>vho70jcx</td>\n",
       "      <td>f056da9c64fbf00a4645ae326e8a4339d015d155</td>\n",
       "      <td>biorxiv</td>\n",
       "      <td>SIANN: Strain Identification by Alignment to N...</td>\n",
       "      <td>10.1101/001727</td>\n",
       "      <td>NaN</td>\n",
       "      <td>NaN</td>\n",
       "      <td>biorxiv</td>\n",
       "      <td>Next-generation sequencing is increasingly bei...</td>\n",
       "      <td>2014-01-10</td>\n",
       "      <td>Samuel Minot; Stephen D Turner; Krista L Ternu...</td>\n",
       "      <td>NaN</td>\n",
       "      <td>NaN</td>\n",
       "      <td>NaN</td>\n",
       "      <td>True</td>\n",
       "      <td>biorxiv_medrxiv</td>\n",
       "      <td>https://doi.org/10.1101/001727</td>\n",
       "    </tr>\n",
       "    <tr>\n",
       "      <th>1</th>\n",
       "      <td>i9tbix2v</td>\n",
       "      <td>daf32e013d325a6feb80e83d15aabc64a48fae33</td>\n",
       "      <td>biorxiv</td>\n",
       "      <td>Spatial epidemiology of networked metapopulati...</td>\n",
       "      <td>10.1101/003889</td>\n",
       "      <td>NaN</td>\n",
       "      <td>NaN</td>\n",
       "      <td>biorxiv</td>\n",
       "      <td>An emerging disease is one infectious epidemic...</td>\n",
       "      <td>2014-06-04</td>\n",
       "      <td>Lin WANG; Xiang Li</td>\n",
       "      <td>NaN</td>\n",
       "      <td>NaN</td>\n",
       "      <td>NaN</td>\n",
       "      <td>True</td>\n",
       "      <td>biorxiv_medrxiv</td>\n",
       "      <td>https://doi.org/10.1101/003889</td>\n",
       "    </tr>\n",
       "    <tr>\n",
       "      <th>2</th>\n",
       "      <td>62gfisc6</td>\n",
       "      <td>f33c6d94b0efaa198f8f3f20e644625fa3fe10d2</td>\n",
       "      <td>biorxiv</td>\n",
       "      <td>Sequencing of the human IG light chain loci fr...</td>\n",
       "      <td>10.1101/006866</td>\n",
       "      <td>NaN</td>\n",
       "      <td>NaN</td>\n",
       "      <td>biorxiv</td>\n",
       "      <td>Germline variation at immunoglobulin gene (IG)...</td>\n",
       "      <td>2014-07-03</td>\n",
       "      <td>Corey T Watson; Karyn Meltz Steinberg; Tina A ...</td>\n",
       "      <td>NaN</td>\n",
       "      <td>NaN</td>\n",
       "      <td>NaN</td>\n",
       "      <td>True</td>\n",
       "      <td>biorxiv_medrxiv</td>\n",
       "      <td>https://doi.org/10.1101/006866</td>\n",
       "    </tr>\n",
       "    <tr>\n",
       "      <th>3</th>\n",
       "      <td>058r9486</td>\n",
       "      <td>4da8a87e614373d56070ed272487451266dce919</td>\n",
       "      <td>biorxiv</td>\n",
       "      <td>Bayesian mixture analysis for metagenomic comm...</td>\n",
       "      <td>10.1101/007476</td>\n",
       "      <td>NaN</td>\n",
       "      <td>NaN</td>\n",
       "      <td>biorxiv</td>\n",
       "      <td>Deep sequencing of clinical samples is now an ...</td>\n",
       "      <td>2014-07-25</td>\n",
       "      <td>Sofia Morfopoulou; Vincent Plagnol</td>\n",
       "      <td>NaN</td>\n",
       "      <td>NaN</td>\n",
       "      <td>NaN</td>\n",
       "      <td>True</td>\n",
       "      <td>biorxiv_medrxiv</td>\n",
       "      <td>https://doi.org/10.1101/007476</td>\n",
       "    </tr>\n",
       "    <tr>\n",
       "      <th>4</th>\n",
       "      <td>wich35l7</td>\n",
       "      <td>eccef80cfbe078235df22398f195d5db462d8000</td>\n",
       "      <td>biorxiv</td>\n",
       "      <td>Mapping a viral phylogeny onto outbreak trees ...</td>\n",
       "      <td>10.1101/010389</td>\n",
       "      <td>NaN</td>\n",
       "      <td>NaN</td>\n",
       "      <td>biorxiv</td>\n",
       "      <td>Developing methods to reconstruct transmission...</td>\n",
       "      <td>2014-11-11</td>\n",
       "      <td>Stephen P Velsko; Jonathan E Allen</td>\n",
       "      <td>NaN</td>\n",
       "      <td>NaN</td>\n",
       "      <td>NaN</td>\n",
       "      <td>True</td>\n",
       "      <td>biorxiv_medrxiv</td>\n",
       "      <td>https://doi.org/10.1101/010389</td>\n",
       "    </tr>\n",
       "  </tbody>\n",
       "</table>\n",
       "</div>"
      ],
      "text/plain": [
       "   cord_uid                                       sha source_x  \\\n",
       "0  vho70jcx  f056da9c64fbf00a4645ae326e8a4339d015d155  biorxiv   \n",
       "1  i9tbix2v  daf32e013d325a6feb80e83d15aabc64a48fae33  biorxiv   \n",
       "2  62gfisc6  f33c6d94b0efaa198f8f3f20e644625fa3fe10d2  biorxiv   \n",
       "3  058r9486  4da8a87e614373d56070ed272487451266dce919  biorxiv   \n",
       "4  wich35l7  eccef80cfbe078235df22398f195d5db462d8000  biorxiv   \n",
       "\n",
       "                                               title             doi pmcid  \\\n",
       "0  SIANN: Strain Identification by Alignment to N...  10.1101/001727   NaN   \n",
       "1  Spatial epidemiology of networked metapopulati...  10.1101/003889   NaN   \n",
       "2  Sequencing of the human IG light chain loci fr...  10.1101/006866   NaN   \n",
       "3  Bayesian mixture analysis for metagenomic comm...  10.1101/007476   NaN   \n",
       "4  Mapping a viral phylogeny onto outbreak trees ...  10.1101/010389   NaN   \n",
       "\n",
       "   pubmed_id  license                                           abstract  \\\n",
       "0        NaN  biorxiv  Next-generation sequencing is increasingly bei...   \n",
       "1        NaN  biorxiv  An emerging disease is one infectious epidemic...   \n",
       "2        NaN  biorxiv  Germline variation at immunoglobulin gene (IG)...   \n",
       "3        NaN  biorxiv  Deep sequencing of clinical samples is now an ...   \n",
       "4        NaN  biorxiv  Developing methods to reconstruct transmission...   \n",
       "\n",
       "  publish_time                                            authors journal  \\\n",
       "0   2014-01-10  Samuel Minot; Stephen D Turner; Krista L Ternu...     NaN   \n",
       "1   2014-06-04                                 Lin WANG; Xiang Li     NaN   \n",
       "2   2014-07-03  Corey T Watson; Karyn Meltz Steinberg; Tina A ...     NaN   \n",
       "3   2014-07-25                 Sofia Morfopoulou; Vincent Plagnol     NaN   \n",
       "4   2014-11-11                 Stephen P Velsko; Jonathan E Allen     NaN   \n",
       "\n",
       "   Microsoft Academic Paper ID WHO #Covidence  has_full_text   full_text_file  \\\n",
       "0                          NaN            NaN           True  biorxiv_medrxiv   \n",
       "1                          NaN            NaN           True  biorxiv_medrxiv   \n",
       "2                          NaN            NaN           True  biorxiv_medrxiv   \n",
       "3                          NaN            NaN           True  biorxiv_medrxiv   \n",
       "4                          NaN            NaN           True  biorxiv_medrxiv   \n",
       "\n",
       "                              url  \n",
       "0  https://doi.org/10.1101/001727  \n",
       "1  https://doi.org/10.1101/003889  \n",
       "2  https://doi.org/10.1101/006866  \n",
       "3  https://doi.org/10.1101/007476  \n",
       "4  https://doi.org/10.1101/010389  "
      ]
     },
     "execution_count": 2,
     "metadata": {},
     "output_type": "execute_result"
    }
   ],
   "source": [
    "df = pd.read_csv('metadata.csv')\n",
    "df.info(verbose=True)\n",
    "df.head()"
   ]
  },
  {
   "cell_type": "code",
   "execution_count": 3,
   "metadata": {},
   "outputs": [
    {
     "data": {
      "text/html": [
       "<div>\n",
       "<style scoped>\n",
       "    .dataframe tbody tr th:only-of-type {\n",
       "        vertical-align: middle;\n",
       "    }\n",
       "\n",
       "    .dataframe tbody tr th {\n",
       "        vertical-align: top;\n",
       "    }\n",
       "\n",
       "    .dataframe thead th {\n",
       "        text-align: right;\n",
       "    }\n",
       "</style>\n",
       "<table border=\"1\" class=\"dataframe\">\n",
       "  <thead>\n",
       "    <tr style=\"text-align: right;\">\n",
       "      <th></th>\n",
       "      <th>title</th>\n",
       "      <th>abstract</th>\n",
       "      <th>authors</th>\n",
       "      <th>publish_time</th>\n",
       "    </tr>\n",
       "  </thead>\n",
       "  <tbody>\n",
       "    <tr>\n",
       "      <th>0</th>\n",
       "      <td>SIANN: Strain Identification by Alignment to N...</td>\n",
       "      <td>next-generation sequencing is increasingly bei...</td>\n",
       "      <td>Samuel Minot; Stephen D Turner; Krista L Ternu...</td>\n",
       "      <td>2014-01-10</td>\n",
       "    </tr>\n",
       "    <tr>\n",
       "      <th>1</th>\n",
       "      <td>Spatial epidemiology of networked metapopulati...</td>\n",
       "      <td>an emerging disease is one infectious epidemic...</td>\n",
       "      <td>Lin WANG; Xiang Li</td>\n",
       "      <td>2014-06-04</td>\n",
       "    </tr>\n",
       "    <tr>\n",
       "      <th>2</th>\n",
       "      <td>Sequencing of the human IG light chain loci fr...</td>\n",
       "      <td>germline variation at immunoglobulin gene (ig)...</td>\n",
       "      <td>Corey T Watson; Karyn Meltz Steinberg; Tina A ...</td>\n",
       "      <td>2014-07-03</td>\n",
       "    </tr>\n",
       "    <tr>\n",
       "      <th>3</th>\n",
       "      <td>Bayesian mixture analysis for metagenomic comm...</td>\n",
       "      <td>deep sequencing of clinical samples is now an ...</td>\n",
       "      <td>Sofia Morfopoulou; Vincent Plagnol</td>\n",
       "      <td>2014-07-25</td>\n",
       "    </tr>\n",
       "    <tr>\n",
       "      <th>4</th>\n",
       "      <td>Mapping a viral phylogeny onto outbreak trees ...</td>\n",
       "      <td>developing methods to reconstruct transmission...</td>\n",
       "      <td>Stephen P Velsko; Jonathan E Allen</td>\n",
       "      <td>2014-11-11</td>\n",
       "    </tr>\n",
       "  </tbody>\n",
       "</table>\n",
       "</div>"
      ],
      "text/plain": [
       "                                               title  \\\n",
       "0  SIANN: Strain Identification by Alignment to N...   \n",
       "1  Spatial epidemiology of networked metapopulati...   \n",
       "2  Sequencing of the human IG light chain loci fr...   \n",
       "3  Bayesian mixture analysis for metagenomic comm...   \n",
       "4  Mapping a viral phylogeny onto outbreak trees ...   \n",
       "\n",
       "                                            abstract  \\\n",
       "0  next-generation sequencing is increasingly bei...   \n",
       "1  an emerging disease is one infectious epidemic...   \n",
       "2  germline variation at immunoglobulin gene (ig)...   \n",
       "3  deep sequencing of clinical samples is now an ...   \n",
       "4  developing methods to reconstruct transmission...   \n",
       "\n",
       "                                             authors publish_time  \n",
       "0  Samuel Minot; Stephen D Turner; Krista L Ternu...   2014-01-10  \n",
       "1                                 Lin WANG; Xiang Li   2014-06-04  \n",
       "2  Corey T Watson; Karyn Meltz Steinberg; Tina A ...   2014-07-03  \n",
       "3                 Sofia Morfopoulou; Vincent Plagnol   2014-07-25  \n",
       "4                 Stephen P Velsko; Jonathan E Allen   2014-11-11  "
      ]
     },
     "execution_count": 3,
     "metadata": {},
     "output_type": "execute_result"
    }
   ],
   "source": [
    "import numpy as np \n",
    "import pandas as pd \n",
    "\n",
    "# load the meta data from the CSV file and extract out fields that will be useful to our application\n",
    "\n",
    "df = df[['title','abstract','authors','publish_time']]\n",
    "df = df.drop_duplicates(subset='abstract', keep=\"first\")\n",
    "df=df.dropna()\n",
    "df[\"abstract\"] = df[\"abstract\"].str.lower()\n",
    "df.head()"
   ]
  },
  {
   "cell_type": "markdown",
   "metadata": {},
   "source": [
    "# Looking into COVID-19 Symptoms"
   ]
  },
  {
   "cell_type": "code",
   "execution_count": 1,
   "metadata": {},
   "outputs": [
    {
     "data": {
      "text/html": [
       "<img src=\"http://analytics.romanko.ca/images/onlinesymptoms.png\"/>"
      ],
      "text/plain": [
       "<IPython.core.display.Image object>"
      ]
     },
     "execution_count": 1,
     "metadata": {},
     "output_type": "execute_result"
    }
   ],
   "source": [
    "from IPython.display import Image\n",
    "#We want to study the symptoms of COVID-19 and how they manifest\n",
    "\n",
    "#Lets do some research for popular virus symptoms:\n",
    "#Image(filename='onlinesymptoms.png')\n",
    "Image(url='http://analytics.romanko.ca/images/onlinesymptoms.png')"
   ]
  },
  {
   "cell_type": "code",
   "execution_count": 4,
   "metadata": {},
   "outputs": [],
   "source": [
    "#Define your list of symptoms from above\n",
    "\n",
    "symptoms = ['cold', 'fever', 'cough', 'rhinitis', 'sore throat', 'hoarseness', 'bronchitis', 'bronchiolitis', 'pneumonia', 'shortness of breath']\n",
    "#shortness of breath = dyspnoea\n",
    "#breathlessness"
   ]
  },
  {
   "cell_type": "markdown",
   "metadata": {},
   "source": [
    "# Lets visualize which symptoms we find in our data"
   ]
  },
  {
   "cell_type": "code",
   "execution_count": 5,
   "metadata": {},
   "outputs": [
    {
     "name": "stdout",
     "output_type": "stream",
     "text": [
      "{'cold': 0, 'fever': 0, 'cough': 0, 'rhinitis': 0, 'sore throat': 0, 'hoarseness': 0, 'bronchitis': 0, 'bronchiolitis': 0, 'pneumonia': 0, 'shortness of breath': 0}\n"
     ]
    },
    {
     "name": "stderr",
     "output_type": "stream",
     "text": [
      "2020-04-01 23:50:45,575 [19768] WARNING  py.warnings:110: [JupyterRequire] C:\\Users\\OLEKSANDRRomanko\\Anaconda3\\lib\\site-packages\\IPython\\core\\pylabtools.py:132: UserWarning: Calling figure.constrained_layout, but figure not setup to do constrained layout.  You either called GridSpec without the fig keyword, you are using plt.subplot, or you need to call figure or subplots with the constrained_layout=True kwarg.\n",
      "  fig.canvas.print_figure(bytes_io, **kw)\n",
      "\n"
     ]
    },
    {
     "name": "stdout",
     "output_type": "stream",
     "text": [
      "{'cold': 413, 'fever': 1742, 'cough': 602, 'rhinitis': 74, 'sore throat': 102, 'hoarseness': 7, 'bronchitis': 804, 'bronchiolitis': 256, 'pneumonia': 2180, 'shortness of breath': 68}\n"
     ]
    },
    {
     "data": {
      "image/png": "[encoded data removed]",
      "text/plain": [
       "<Figure size 1040x400 with 1 Axes>"
      ]
     },
     "metadata": {},
     "output_type": "display_data"
    }
   ],
   "source": [
    "#Lets do some preliminary exploratory data analysis\n",
    "\n",
    "symptom_count = dict((symptom,0) for symptom in symptoms)\n",
    "\n",
    "print(symptom_count)\n",
    "\n",
    "for symptom in symptom_count:\n",
    "    for abstract in df['abstract']:\n",
    "        if str(symptom) in abstract:\n",
    "            symptom_count[symptom] += 1\n",
    "\n",
    "\n",
    "print(symptom_count)\n",
    "\n",
    "loc = np.arange(len(symptom_count))\n",
    "width = 0.35\n",
    "\n",
    "fig = plt.figure(num=None, constrained_layout=True, figsize=(13, 5), dpi=80, facecolor='w', edgecolor='k')\n",
    "ax = fig.add_axes([0,0,1,1])\n",
    "\n",
    "ax.bar(symptom_count.keys(),symptom_count.values())\n",
    "ax.set_xticks(loc, tuple(symptoms))\n",
    "\n",
    "ax.grid(color='#95a5a6', linestyle='--', linewidth=2, axis='y', alpha=0.7)\n",
    "ax.set_ylabel('Number of Papers Mentioning this Symptom')\n",
    "ax.set_xlabel('Symptom')\n",
    "ax.set_title('Visualizing Prevalent Symptoms')\n",
    "plt.show()\n"
   ]
  },
  {
   "cell_type": "code",
   "execution_count": 6,
   "metadata": {},
   "outputs": [
    {
     "name": "stdout",
     "output_type": "stream",
     "text": [
      "['cold', 'fever', 'cough', 'rhinitis', 'sore throat', 'bronchitis', 'bronchiolitis', 'pneumonia', 'shortness of breath']\n"
     ]
    }
   ],
   "source": [
    "#Hoarseness doesn't seem to be very important, lets pop it\n",
    "\n",
    "symptoms.pop(5)\n",
    "print(symptoms)"
   ]
  },
  {
   "cell_type": "markdown",
   "metadata": {},
   "source": [
    "# Lets define our distance matrix"
   ]
  },
  {
   "cell_type": "code",
   "execution_count": 12,
   "metadata": {
    "scrolled": true
   },
   "outputs": [
    {
     "name": "stdout",
     "output_type": "stream",
     "text": [
      "[[0. 0. 0. 0. 0. 0. 0. 0. 0.]\n",
      " [0. 0. 0. 0. 0. 0. 0. 0. 0.]\n",
      " [0. 0. 0. 0. 0. 0. 0. 0. 0.]\n",
      " [0. 0. 0. 0. 0. 0. 0. 0. 0.]\n",
      " [0. 0. 0. 0. 0. 0. 0. 0. 0.]\n",
      " [0. 0. 0. 0. 0. 0. 0. 0. 0.]\n",
      " [0. 0. 0. 0. 0. 0. 0. 0. 0.]\n",
      " [0. 0. 0. 0. 0. 0. 0. 0. 0.]\n",
      " [0. 0. 0. 0. 0. 0. 0. 0. 0.]]\n"
     ]
    }
   ],
   "source": [
    "#Define the metric that will be used to define the \"distance\" metric used in the heirarchical clustering algorithm\n",
    "symptom_dist = np.zeros((len(symptoms),len(symptoms)), dtype=float)\n",
    "print(symptom_dist)"
   ]
  },
  {
   "cell_type": "code",
   "execution_count": 13,
   "metadata": {
    "scrolled": true
   },
   "outputs": [
    {
     "data": {
      "text/html": [
       "<div>\n",
       "<style scoped>\n",
       "    .dataframe tbody tr th:only-of-type {\n",
       "        vertical-align: middle;\n",
       "    }\n",
       "\n",
       "    .dataframe tbody tr th {\n",
       "        vertical-align: top;\n",
       "    }\n",
       "\n",
       "    .dataframe thead th {\n",
       "        text-align: right;\n",
       "    }\n",
       "</style>\n",
       "<table border=\"1\" class=\"dataframe\">\n",
       "  <thead>\n",
       "    <tr style=\"text-align: right;\">\n",
       "      <th></th>\n",
       "      <th>cold</th>\n",
       "      <th>fever</th>\n",
       "      <th>cough</th>\n",
       "      <th>rhinitis</th>\n",
       "      <th>sore throat</th>\n",
       "      <th>bronchitis</th>\n",
       "      <th>bronchiolitis</th>\n",
       "      <th>pneumonia</th>\n",
       "      <th>shortness of breath</th>\n",
       "    </tr>\n",
       "  </thead>\n",
       "  <tbody>\n",
       "    <tr>\n",
       "      <th>cold</th>\n",
       "      <td>0.0</td>\n",
       "      <td>0.0</td>\n",
       "      <td>0.0</td>\n",
       "      <td>0.0</td>\n",
       "      <td>0.0</td>\n",
       "      <td>0.0</td>\n",
       "      <td>0.0</td>\n",
       "      <td>0.0</td>\n",
       "      <td>0.0</td>\n",
       "    </tr>\n",
       "    <tr>\n",
       "      <th>fever</th>\n",
       "      <td>0.0</td>\n",
       "      <td>0.0</td>\n",
       "      <td>0.0</td>\n",
       "      <td>0.0</td>\n",
       "      <td>0.0</td>\n",
       "      <td>0.0</td>\n",
       "      <td>0.0</td>\n",
       "      <td>0.0</td>\n",
       "      <td>0.0</td>\n",
       "    </tr>\n",
       "    <tr>\n",
       "      <th>cough</th>\n",
       "      <td>0.0</td>\n",
       "      <td>0.0</td>\n",
       "      <td>0.0</td>\n",
       "      <td>0.0</td>\n",
       "      <td>0.0</td>\n",
       "      <td>0.0</td>\n",
       "      <td>0.0</td>\n",
       "      <td>0.0</td>\n",
       "      <td>0.0</td>\n",
       "    </tr>\n",
       "    <tr>\n",
       "      <th>rhinitis</th>\n",
       "      <td>0.0</td>\n",
       "      <td>0.0</td>\n",
       "      <td>0.0</td>\n",
       "      <td>0.0</td>\n",
       "      <td>0.0</td>\n",
       "      <td>0.0</td>\n",
       "      <td>0.0</td>\n",
       "      <td>0.0</td>\n",
       "      <td>0.0</td>\n",
       "    </tr>\n",
       "    <tr>\n",
       "      <th>sore throat</th>\n",
       "      <td>0.0</td>\n",
       "      <td>0.0</td>\n",
       "      <td>0.0</td>\n",
       "      <td>0.0</td>\n",
       "      <td>0.0</td>\n",
       "      <td>0.0</td>\n",
       "      <td>0.0</td>\n",
       "      <td>0.0</td>\n",
       "      <td>0.0</td>\n",
       "    </tr>\n",
       "    <tr>\n",
       "      <th>bronchitis</th>\n",
       "      <td>0.0</td>\n",
       "      <td>0.0</td>\n",
       "      <td>0.0</td>\n",
       "      <td>0.0</td>\n",
       "      <td>0.0</td>\n",
       "      <td>0.0</td>\n",
       "      <td>0.0</td>\n",
       "      <td>0.0</td>\n",
       "      <td>0.0</td>\n",
       "    </tr>\n",
       "    <tr>\n",
       "      <th>bronchiolitis</th>\n",
       "      <td>0.0</td>\n",
       "      <td>0.0</td>\n",
       "      <td>0.0</td>\n",
       "      <td>0.0</td>\n",
       "      <td>0.0</td>\n",
       "      <td>0.0</td>\n",
       "      <td>0.0</td>\n",
       "      <td>0.0</td>\n",
       "      <td>0.0</td>\n",
       "    </tr>\n",
       "    <tr>\n",
       "      <th>pneumonia</th>\n",
       "      <td>0.0</td>\n",
       "      <td>0.0</td>\n",
       "      <td>0.0</td>\n",
       "      <td>0.0</td>\n",
       "      <td>0.0</td>\n",
       "      <td>0.0</td>\n",
       "      <td>0.0</td>\n",
       "      <td>0.0</td>\n",
       "      <td>0.0</td>\n",
       "    </tr>\n",
       "    <tr>\n",
       "      <th>shortness of breath</th>\n",
       "      <td>0.0</td>\n",
       "      <td>0.0</td>\n",
       "      <td>0.0</td>\n",
       "      <td>0.0</td>\n",
       "      <td>0.0</td>\n",
       "      <td>0.0</td>\n",
       "      <td>0.0</td>\n",
       "      <td>0.0</td>\n",
       "      <td>0.0</td>\n",
       "    </tr>\n",
       "  </tbody>\n",
       "</table>\n",
       "</div>"
      ],
      "text/plain": [
       "                     cold  fever  cough  rhinitis  sore throat  bronchitis  \\\n",
       "cold                  0.0    0.0    0.0       0.0          0.0         0.0   \n",
       "fever                 0.0    0.0    0.0       0.0          0.0         0.0   \n",
       "cough                 0.0    0.0    0.0       0.0          0.0         0.0   \n",
       "rhinitis              0.0    0.0    0.0       0.0          0.0         0.0   \n",
       "sore throat           0.0    0.0    0.0       0.0          0.0         0.0   \n",
       "bronchitis            0.0    0.0    0.0       0.0          0.0         0.0   \n",
       "bronchiolitis         0.0    0.0    0.0       0.0          0.0         0.0   \n",
       "pneumonia             0.0    0.0    0.0       0.0          0.0         0.0   \n",
       "shortness of breath   0.0    0.0    0.0       0.0          0.0         0.0   \n",
       "\n",
       "                     bronchiolitis  pneumonia  shortness of breath  \n",
       "cold                           0.0        0.0                  0.0  \n",
       "fever                          0.0        0.0                  0.0  \n",
       "cough                          0.0        0.0                  0.0  \n",
       "rhinitis                       0.0        0.0                  0.0  \n",
       "sore throat                    0.0        0.0                  0.0  \n",
       "bronchitis                     0.0        0.0                  0.0  \n",
       "bronchiolitis                  0.0        0.0                  0.0  \n",
       "pneumonia                      0.0        0.0                  0.0  \n",
       "shortness of breath            0.0        0.0                  0.0  "
      ]
     },
     "execution_count": 13,
     "metadata": {},
     "output_type": "execute_result"
    }
   ],
   "source": [
    "df_symptoms = pd.DataFrame(symptom_dist, columns=symptoms, index=symptoms)\n",
    "df_symptoms"
   ]
  },
  {
   "cell_type": "code",
   "execution_count": 8,
   "metadata": {},
   "outputs": [],
   "source": [
    "#Helper function that will calculate the distance\n",
    "\n",
    "def cumulative_dist(symptom1, symptom2, df):\n",
    "    cum_sum = 0\n",
    "    number_of_papers = 0\n",
    "    if symptom1 == symptom2: return 0\n",
    "    \n",
    "    for abstract in df['abstract']:\n",
    "        if ((symptom1 in abstract) and (symptom2 in abstract)):\n",
    "            number_of_papers += 1\n",
    "            cum_sum -= 1\n",
    "        elif (((symptom1 in abstract) and (symptom2 not in abstract)) or ((symptom1 not in abstract) and (symptom2 in abstract))):\n",
    "            number_of_papers += 1\n",
    "            cum_sum += 1\n",
    "    return cum_sum/number_of_papers\n",
    "\n",
    "\n",
    "#Populate Matrix of symptom distances by mining the text of the papers found in the database and using the distance rule as\n",
    "\n",
    "#For a symptom A and B mentioned in a paper together the distanceA_B += 1 \n",
    "# or distanceA_B -= 1 if they are not mentioned together\n",
    "\n",
    "symptom_dist = np.zeros((len(symptoms),len(symptoms)),float)\n",
    "symptom_dist1 = np.zeros((len(symptoms),len(symptoms)),float)\n",
    "#print(symptom_dist)\n",
    "#print()\n",
    "for i in range(len(symptoms)):\n",
    "    for j in range(len(symptoms)):\n",
    "        symptom_dist[i][j] = cumulative_dist(symptoms[i],symptoms[j], df)\n",
    "        symptom_dist1[i][j] = cumulative_dist(symptoms[i],symptoms[j], df)**6"
   ]
  },
  {
   "cell_type": "code",
   "execution_count": 9,
   "metadata": {},
   "outputs": [
    {
     "name": "stdout",
     "output_type": "stream",
     "text": [
      "Our distance matrix looks like this:\n"
     ]
    },
    {
     "data": {
      "text/html": [
       "<div>\n",
       "<style scoped>\n",
       "    .dataframe tbody tr th:only-of-type {\n",
       "        vertical-align: middle;\n",
       "    }\n",
       "\n",
       "    .dataframe tbody tr th {\n",
       "        vertical-align: top;\n",
       "    }\n",
       "\n",
       "    .dataframe thead th {\n",
       "        text-align: right;\n",
       "    }\n",
       "</style>\n",
       "<table border=\"1\" class=\"dataframe\">\n",
       "  <thead>\n",
       "    <tr style=\"text-align: right;\">\n",
       "      <th></th>\n",
       "      <th>cold</th>\n",
       "      <th>fever</th>\n",
       "      <th>cough</th>\n",
       "      <th>rhinitis</th>\n",
       "      <th>sore throat</th>\n",
       "      <th>bronchitis</th>\n",
       "      <th>bronchiolitis</th>\n",
       "      <th>pneumonia</th>\n",
       "      <th>shortness of breath</th>\n",
       "    </tr>\n",
       "  </thead>\n",
       "  <tbody>\n",
       "    <tr>\n",
       "      <th>cold</th>\n",
       "      <td>0.000000</td>\n",
       "      <td>0.837153</td>\n",
       "      <td>0.723202</td>\n",
       "      <td>0.815592</td>\n",
       "      <td>0.784697</td>\n",
       "      <td>0.832843</td>\n",
       "      <td>0.641967</td>\n",
       "      <td>0.801928</td>\n",
       "      <td>1.000000</td>\n",
       "    </tr>\n",
       "    <tr>\n",
       "      <th>fever</th>\n",
       "      <td>0.837153</td>\n",
       "      <td>0.000000</td>\n",
       "      <td>0.073878</td>\n",
       "      <td>0.935367</td>\n",
       "      <td>0.648725</td>\n",
       "      <td>0.921999</td>\n",
       "      <td>0.835776</td>\n",
       "      <td>0.321655</td>\n",
       "      <td>0.709247</td>\n",
       "    </tr>\n",
       "    <tr>\n",
       "      <th>cough</th>\n",
       "      <td>0.723202</td>\n",
       "      <td>0.073878</td>\n",
       "      <td>0.000000</td>\n",
       "      <td>0.786603</td>\n",
       "      <td>0.262144</td>\n",
       "      <td>0.758180</td>\n",
       "      <td>0.711776</td>\n",
       "      <td>0.343106</td>\n",
       "      <td>0.348073</td>\n",
       "    </tr>\n",
       "    <tr>\n",
       "      <th>rhinitis</th>\n",
       "      <td>0.815592</td>\n",
       "      <td>0.935367</td>\n",
       "      <td>0.786603</td>\n",
       "      <td>0.000000</td>\n",
       "      <td>0.933358</td>\n",
       "      <td>0.972914</td>\n",
       "      <td>0.797366</td>\n",
       "      <td>0.952847</td>\n",
       "      <td>1.000000</td>\n",
       "    </tr>\n",
       "    <tr>\n",
       "      <th>sore throat</th>\n",
       "      <td>0.784697</td>\n",
       "      <td>0.648725</td>\n",
       "      <td>0.262144</td>\n",
       "      <td>0.933358</td>\n",
       "      <td>0.000000</td>\n",
       "      <td>0.986813</td>\n",
       "      <td>0.966854</td>\n",
       "      <td>0.874228</td>\n",
       "      <td>0.583434</td>\n",
       "    </tr>\n",
       "    <tr>\n",
       "      <th>bronchitis</th>\n",
       "      <td>0.832843</td>\n",
       "      <td>0.921999</td>\n",
       "      <td>0.758180</td>\n",
       "      <td>0.972914</td>\n",
       "      <td>0.986813</td>\n",
       "      <td>0.000000</td>\n",
       "      <td>0.870226</td>\n",
       "      <td>0.777685</td>\n",
       "      <td>0.986302</td>\n",
       "    </tr>\n",
       "    <tr>\n",
       "      <th>bronchiolitis</th>\n",
       "      <td>0.641967</td>\n",
       "      <td>0.835776</td>\n",
       "      <td>0.711776</td>\n",
       "      <td>0.797366</td>\n",
       "      <td>0.966854</td>\n",
       "      <td>0.870226</td>\n",
       "      <td>0.000000</td>\n",
       "      <td>0.564183</td>\n",
       "      <td>1.000000</td>\n",
       "    </tr>\n",
       "    <tr>\n",
       "      <th>pneumonia</th>\n",
       "      <td>0.801928</td>\n",
       "      <td>0.321655</td>\n",
       "      <td>0.343106</td>\n",
       "      <td>0.952847</td>\n",
       "      <td>0.874228</td>\n",
       "      <td>0.777685</td>\n",
       "      <td>0.564183</td>\n",
       "      <td>0.000000</td>\n",
       "      <td>0.848280</td>\n",
       "    </tr>\n",
       "    <tr>\n",
       "      <th>shortness of breath</th>\n",
       "      <td>1.000000</td>\n",
       "      <td>0.709247</td>\n",
       "      <td>0.348073</td>\n",
       "      <td>1.000000</td>\n",
       "      <td>0.583434</td>\n",
       "      <td>0.986302</td>\n",
       "      <td>1.000000</td>\n",
       "      <td>0.848280</td>\n",
       "      <td>0.000000</td>\n",
       "    </tr>\n",
       "  </tbody>\n",
       "</table>\n",
       "</div>"
      ],
      "text/plain": [
       "                         cold     fever     cough  rhinitis  sore throat  \\\n",
       "cold                 0.000000  0.837153  0.723202  0.815592     0.784697   \n",
       "fever                0.837153  0.000000  0.073878  0.935367     0.648725   \n",
       "cough                0.723202  0.073878  0.000000  0.786603     0.262144   \n",
       "rhinitis             0.815592  0.935367  0.786603  0.000000     0.933358   \n",
       "sore throat          0.784697  0.648725  0.262144  0.933358     0.000000   \n",
       "bronchitis           0.832843  0.921999  0.758180  0.972914     0.986813   \n",
       "bronchiolitis        0.641967  0.835776  0.711776  0.797366     0.966854   \n",
       "pneumonia            0.801928  0.321655  0.343106  0.952847     0.874228   \n",
       "shortness of breath  1.000000  0.709247  0.348073  1.000000     0.583434   \n",
       "\n",
       "                     bronchitis  bronchiolitis  pneumonia  shortness of breath  \n",
       "cold                   0.832843       0.641967   0.801928             1.000000  \n",
       "fever                  0.921999       0.835776   0.321655             0.709247  \n",
       "cough                  0.758180       0.711776   0.343106             0.348073  \n",
       "rhinitis               0.972914       0.797366   0.952847             1.000000  \n",
       "sore throat            0.986813       0.966854   0.874228             0.583434  \n",
       "bronchitis             0.000000       0.870226   0.777685             0.986302  \n",
       "bronchiolitis          0.870226       0.000000   0.564183             1.000000  \n",
       "pneumonia              0.777685       0.564183   0.000000             0.848280  \n",
       "shortness of breath    0.986302       1.000000   0.848280             0.000000  "
      ]
     },
     "execution_count": 9,
     "metadata": {},
     "output_type": "execute_result"
    }
   ],
   "source": [
    "df_symptoms = pd.DataFrame(symptom_dist1, columns=symptoms, index=symptoms)\n",
    "print('Our distance matrix looks like this:')   \n",
    "df_symptoms"
   ]
  },
  {
   "cell_type": "markdown",
   "metadata": {},
   "source": [
    "# Perform Hierarchical Clustering using our distance matrix"
   ]
  },
  {
   "cell_type": "code",
   "execution_count": 10,
   "metadata": {},
   "outputs": [
    {
     "name": "stderr",
     "output_type": "stream",
     "text": [
      "2020-04-01 23:51:43,190 [19768] WARNING  py.warnings:110: [JupyterRequire] C:\\Users\\OLEKSANDRRomanko\\Anaconda3\\lib\\site-packages\\ipykernel_launcher.py:5: ClusterWarning: scipy.cluster: The symmetric non-negative hollow observation matrix looks suspiciously like an uncondensed distance matrix\n",
      "  \"\"\"\n",
      "\n"
     ]
    }
   ],
   "source": [
    "# Distance was magnified prior to Hierarchical Clustering\n",
    "Y = sch.linkage(symptom_dist1, method='centroid')"
   ]
  },
  {
   "cell_type": "code",
   "execution_count": 11,
   "metadata": {},
   "outputs": [
    {
     "data": {
      "text/plain": [
       "Text(0.5, 1.0, 'Dendrogram Displaying COVID-19 Symptom Clusters')"
      ]
     },
     "execution_count": 11,
     "metadata": {},
     "output_type": "execute_result"
    },
    {
     "data": {
      "image/png": "[encoded data removed]",
      "text/plain": [
       "<Figure size 720x720 with 1 Axes>"
      ]
     },
     "metadata": {
      "needs_background": "light"
     },
     "output_type": "display_data"
    }
   ],
   "source": [
    "fig = plt.figure(figsize=(10,10))\n",
    "ax1 = fig.add_axes([0.1,0.1,0.4,0.6])\n",
    "\n",
    "# Get the dendrogram\n",
    "Z1 = sch.dendrogram(Y, orientation='right')\n",
    "\n",
    "ax1.set_xticks([])\n",
    "labels = df_symptoms.columns[Z1['leaves']]\n",
    "ax1.set_yticklabels(labels)\n",
    "ax1.set_title(\"Dendrogram Displaying COVID-19 Symptom Clusters\")\n",
    "#plt.savefig('COVID_clustering.png', format='png', bbox_inches='tight', dpi=600)"
   ]
  },
  {
   "cell_type": "code",
   "execution_count": 2,
   "metadata": {},
   "outputs": [
    {
     "data": {
      "text/html": [
       "<img src=\"http://analytics.romanko.ca/images/symptoms.png\"/>"
      ],
      "text/plain": [
       "<IPython.core.display.Image object>"
      ]
     },
     "execution_count": 2,
     "metadata": {},
     "output_type": "execute_result"
    }
   ],
   "source": [
    "#Image(filename='symptoms.png')\n",
    "Image(url='http://analytics.romanko.ca/images/symptoms.png')"
   ]
  },
  {
   "cell_type": "markdown",
   "metadata": {},
   "source": [
    "# Using the insights derived from your model, suggest how action can be taken against COVID-19"
   ]
  }
 ],
 "metadata": {
  "kernelspec": {
   "display_name": "Python 3",
   "language": "python",
   "name": "python3"
  },
  "language_info": {
   "codemirror_mode": {
    "name": "ipython",
    "version": 3
   },
   "file_extension": ".py",
   "mimetype": "text/x-python",
   "name": "python",
   "nbconvert_exporter": "python",
   "pygments_lexer": "ipython3",
   "version": "3.7.4"
  }
 },
 "nbformat": 4,
 "nbformat_minor": 2
}
